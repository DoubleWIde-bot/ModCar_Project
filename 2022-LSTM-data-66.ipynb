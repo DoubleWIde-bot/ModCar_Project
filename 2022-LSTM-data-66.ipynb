{
 "cells": [
  {
   "cell_type": "code",
   "execution_count": 1,
   "metadata": {},
   "outputs": [],
   "source": [
    "#!/usr/bin/env python3\n",
    "import os\n",
    "import numpy as np\n",
    "import cv2\n",
    "###-------------- LSTM sequence generator ----------------------------------------------------------------------------------------------------------------------------------------################################\n",
    "###-------------- Input file: Lidar_Images_Sim'-----------------------------------------------------------------------------------------------------------------------------------################################\n",
    "###-------------- Output file: save files in Images_Tensor_Sim, train and test in one file.---------------------------------------------------------------------------------------################################\n",
    "SIMULATION=0\n",
    "sequence_len = 5\n",
    "ModelCar_Path = os.path.dirname(os.path.abspath(''))\n",
    "Data_Path = os.path.join(ModelCar_Path, 'Data')\n",
    "if(SIMULATION):\n",
    "    Image_Path = os.path.join(Data_Path, 'Images_Sim')\n",
    "    Train_Image_Path = os.path.join(Image_Path, 'Train_Images_Sim')\n",
    "    Test_Image_Path = os.path.join(Image_Path, 'Test_Images_Sim')\n",
    "    Whole_Image_Path = os.path.join(Image_Path, 'Lidar_Images_Sim')\n",
    "    Manual_Path = os.path.join(Data_Path, 'Manual_Sim.npy')\n",
    "    Edge_Camera_Path = os.path.join(Data_Path, 'Edge_Camera_Sim.npy')\n",
    "    Nvidia_Camera_Path = os.path.join(Data_Path, 'Nvidia_Camera_Sim.npy')\n",
    "    Lidar_Path = os.path.join(Data_Path, 'Lidar_Sim.npy')   \n",
    "    Image_Save_Path = os.path.join(Image_Path, 'Images_Tensor_Sim')\n",
    "else:\n",
    "    Image_Path = os.path.join(Data_Path, 'Images_Car')\n",
    "    Train_Image_Path = os.path.join(Image_Path, 'Train_Images_Car')\n",
    "    Test_Image_Path = os.path.join(Image_Path, 'Test_Images_Car')\n",
    "    Whole_Image_Path = os.path.join(Image_Path, 'EECE_Images')\n",
    "    #Whole_Image_Path = '/media/zhihuilai/RAID1/Erik-ModelCar-Data/CME_Images_Processed'\n",
    "    Manual_Path = os.path.join(Data_Path, 'Manual_Car.npy')\n",
    "    Edge_Camera_Path = os.path.join(Data_Path, 'Edge_Camera_Car.npy')\n",
    "    Nvidia_Camera_Path = os.path.join(Data_Path, 'Nvidia_Camera_Car.npy')\n",
    "    Lidar_Path = os.path.join(Data_Path, 'Lidar_Car.npy')\n",
    "    #Image_Save_Path = os.path.join(Image_Path, 'CME_Tensors')\n",
    "    #Image_Save_Path = \"/media/zhihuilai/RAID1/Erik-ModelCar-Data/CME_Tensors_Processed\"\n",
    "    Image_Save_Path = \"/media/zhihuilai/RAID1/Erik-ModelCar-Data/EECE_Tensors_Processed\"\n",
    "if SIMULATION:\n",
    "    def Image_Processing(image):\n",
    "        image = cv2.cvtColor(image, cv2.COLOR_RGB2YUV)\n",
    "        #image = cv2.GaussianBlur(image, (3, 3), 0)\n",
    "        image = cv2.resize(image, (230, 66))\n",
    "        return image       \n",
    "else:   #reality\n",
    "    def Image_Processing(image):\n",
    "        image = image[60:165, :, :]\n",
    "        #105,320\n",
    "        #105,280\n",
    "        image = cv2.cvtColor(image, cv2.COLOR_RGB2YUV)\n",
    "        #image = cv2.GaussianBlur(image, (3, 3), 0)\n",
    "        image = cv2.resize(image, (230, 66))\n",
    "        return image\n",
    "Images_sequence_array = []\n",
    "sequence = []\n",
    "Image_Count=0\n",
    "if(len(os.listdir(Whole_Image_Path)) == 0):\n",
    "    print('[Error!] Check Whole Images are in Correct Directory')\n",
    "    sys.exit()\n",
    "\n",
    "for Filepath in os.listdir(Whole_Image_Path):\n",
    "    Search_Folder = os.path.join(Whole_Image_Path, Filepath)\n",
    "    sequence = []\n",
    "    for Folders in sorted(os.listdir(Search_Folder), key=lambda x: int(x.split(\"_\")[2])):\n",
    "        #add manual images \n",
    "        #if (int(Folders.split(\"_\")[2])%2)==1:\n",
    "        Whole_Images_Array = np.load(os.path.join(Search_Folder, Folders), allow_pickle=True)\n",
    "        sequence.append(Image_Processing(Whole_Images_Array[0]))\n",
    "        #sequence.append(Whole_Images_Array[0])\n",
    "        if (len(sequence) == sequence_len):\n",
    "            sequence_arr=np.array(sequence)\n",
    "            Speed = Whole_Images_Array[1]\n",
    "            Steering_Angle = Whole_Images_Array[2]\n",
    "            Images_sequence_array = [sequence_arr, Speed, Steering_Angle]\n",
    "            Image_Filename = 'Image_Tensor_' + str(sequence_len)+'_'+str(Image_Count) + '_' + str(Speed) + '_' + str(Steering_Angle)\n",
    "            np.save(os.path.join(Image_Save_Path, Image_Filename), np.array(Images_sequence_array))\n",
    "            Image_Count += 1\n",
    "            sequence.pop(0)  \n",
    "              \n",
    "#print(\"Image shape:\",Images_arr.shape)"
   ]
  },
  {
   "cell_type": "code",
   "execution_count": null,
   "metadata": {},
   "outputs": [],
   "source": [
    "#!/usr/bin/env python3\n",
    "import os\n",
    "import numpy as np\n",
    "CNN_Type = 0\n",
    "#0 = NVIDIA \n",
    "#1 = Features\n",
    "Version = 'EECE'\n",
    "\n",
    "Train_Model = 1\n",
    "SIMULATION = 1\n",
    "Use_Speed = 1\n",
    "Show_Results = 1\n",
    "sequence_len = 5\n",
    "file_count=0\n",
    "ModelCar_Path = os.path.dirname(os.path.abspath(''))\n",
    "Data_Path = os.path.join(ModelCar_Path, 'Data')\n",
    "Training_Results_Path = os.path.join(Data_Path, Version)\n",
    "Model_Path = os.path.join(Training_Results_Path, Version + '.h5')\n",
    "Check_Path = os.path.join(Training_Results_Path, 'Model_Check.h5')\n",
    "History_Path = os.path.join(Training_Results_Path, 'History.pickle')\n",
    "Prediction_Path = os.path.join(Training_Results_Path, 'Predictions')\n",
    "Image_Path = os.path.join(Data_Path, 'Images_Sim')\n",
    "Train_Image_Path = os.path.join(Image_Path, 'Train_Images_Sim')\n",
    "Test_Image_Path = os.path.join(Image_Path, 'Test_Images_Sim')\n",
    "Manual_Path = os.path.join(Data_Path, 'Manual_Sim.npy')\n",
    "Edge_Camera_Path = os.path.join(Data_Path, 'Edge_Camera_Sim.npy')\n",
    "Nvidia_Camera_Path = os.path.join(Data_Path, 'Nvidia_Camera_Sim.npy')\n",
    "Lidar_Path = os.path.join(Data_Path, 'Lidar_Sim.npy')\n",
    "Images = []\n",
    "Speeds = []\n",
    "Steering_Angles = []\n",
    "if(len(os.listdir(Train_Image_Path)) == 0):\n",
    "    print('[Error!] Check Training Images are in Correct Directory')\n",
    "    sys.exit()\n",
    "'''\n",
    "#filename sequence debugging\n",
    "for Filepath in os.listdir(Train_Image_Path):\n",
    "    Search_Folder = os.path.join(Train_Image_Path, Filepath)\n",
    "    sequence = []\n",
    "    #Images_arr=np.asarray(Images)\n",
    "    #print(\"Image shape:\", Images_arr.shape)\n",
    "    for Train_Folders in sorted(os.listdir(Search_Folder), key=lambda x: int(x.split(\"_\")[2])):\n",
    "        Training_Images_Array = np.load(os.path.join(Search_Folder, Train_Folders), allow_pickle=True)\n",
    "        #print(os.path.basename(os.path.join(Search_Folder, Train_Folders)))\n",
    "        #sequence.append(Training_Images_Array[0])\n",
    "        sequence.append(os.path.basename(os.path.join(Search_Folder, Train_Folders)))\n",
    "        #print(sequence)\n",
    "        if (len(sequence) == sequence_len):\n",
    "            #Images.append(sequence)\n",
    "            Images=np.append(Images,np.asarray(sequence))\n",
    "            #Images=np.expand_dims(Images,axis=1)\n",
    "            #sequence_arr=np.asarray(sequence)\n",
    "            #Images_arr=np.asarray(Images)\n",
    "            #print(\"sequence shape: \", sequence_arr.shape)\n",
    "            #print(\"Image shape:\", Images_arr.shape)\n",
    "            Speeds.append(Training_Images_Array[1])\n",
    "            Steering_Angles.append(Training_Images_Array[2])\n",
    "            sequence.pop(0)\n",
    "Images=np.resize(Images,(int(Images.size/5),5))\n",
    "Images.shape\n",
    "'''\n",
    "for Filepath in os.listdir(Train_Image_Path):\n",
    "    Search_Folder = os.path.join(Train_Image_Path, Filepath)\n",
    "    sequence = []\n",
    "    for Train_Folders in sorted(os.listdir(Search_Folder), key=lambda x: int(x.split(\"_\")[2])):\n",
    "        Training_Images_Array = np.load(os.path.join(Search_Folder, Train_Folders), allow_pickle=True)\n",
    "        sequence.append(Training_Images_Array[0])\n",
    "        file_count=file_count+1\n",
    "        #print(file_count)\n",
    "        #Images_arr=np.array(Images)\n",
    "        #print(\"Image shape:\", Images_arr.shape)\n",
    "        if (len(sequence) == sequence_len):\n",
    "            '''\n",
    "            if(file_count==sequence_len):#initialization\n",
    "                #Images.append(sequence)\n",
    "                sequence_arr=np.expand_dims(np.asarray(sequence),axis=0)\n",
    "                Images=sequence_arr\n",
    "                print(Images.shape)\n",
    "            else:\n",
    "                sequence_arr=np.expand_dims(np.asarray(sequence),axis=0)\n",
    "                Images=np.append(Images,sequence_arr,axis=0)\n",
    "            '''\n",
    "            #Images.extend(sequence)\n",
    "            sequence_arr=np.array(sequence)\n",
    "            Images.append(sequence_arr)\n",
    "            Speeds.append(Training_Images_Array[1])\n",
    "            Steering_Angles.append(Training_Images_Array[2])\n",
    "            sequence.pop(0)        \n",
    "#Images_arr=np.asarray(Images)\n",
    "#print(\"Image pre shape:\", Images_arr.shape)\n",
    "#Images_arr=np.reshape(np.asarray(Images),(int(len(Images)/sequence_len),sequence_len, 240, 320, 3))\n",
    "print(\"Image shape:\",Images_arr.shape)"
   ]
  },
  {
   "cell_type": "code",
   "execution_count": 3,
   "metadata": {},
   "outputs": [
    {
     "name": "stdout",
     "output_type": "stream",
     "text": [
      "(2, 5)\n"
     ]
    }
   ],
   "source": [
    "import numpy as np\n",
    "a=[0,1,2,3,4]\n",
    "a.append(5)\n",
    "a.pop(0)\n",
    "a.append(6)\n",
    "a.pop(0)\n",
    "b=[3,4,5,6,7]\n",
    "c=[]\n",
    "c.append(a)\n",
    "c.append(b)\n",
    "d=np.asarray(c)\n",
    "print(d.shape)"
   ]
  },
  {
   "cell_type": "code",
   "execution_count": 14,
   "metadata": {},
   "outputs": [
    {
     "name": "stdout",
     "output_type": "stream",
     "text": [
      "(1, 5, 240, 320, 3)\n"
     ]
    },
    {
     "data": {
      "text/plain": [
       "(3, 5, 240, 320, 3)"
      ]
     },
     "execution_count": 14,
     "metadata": {},
     "output_type": "execute_result"
    }
   ],
   "source": [
    "sequence_arr=np.expand_dims(np.asarray(sequence),axis=0)\n",
    "print(sequence_arr.shape)\n",
    "#abc=np.expand_dims(np.asarray(sequence),axis=1)\n",
    "#abc.shape\n",
    "abc=[]\n",
    "abc=sequence_arr\n",
    "abc=np.append(abc,sequence_arr,axis=0)\n",
    "sequence_arr=np.expand_dims(np.asarray(sequence),axis=0)\n",
    "abc=np.append(abc,sequence_arr,axis=0)\n",
    "abc.shape"
   ]
  },
  {
   "cell_type": "code",
   "execution_count": 11,
   "metadata": {},
   "outputs": [
    {
     "name": "stdout",
     "output_type": "stream",
     "text": [
      "Image shape: (5, 240, 320, 3)\n"
     ]
    }
   ],
   "source": [
    "#Images_arr=np.array(Images_sequence_array)\n",
    "#Images_arr=np.array(Whole_Images_Array)\n",
    "#print(\"Image shape:\",Images_arr[0].shape)\n",
    "print(\"Image shape:\",Images_sequence_array[0].shape)\n",
    "#Images_arr[0]"
   ]
  },
  {
   "cell_type": "code",
   "execution_count": 2,
   "metadata": {},
   "outputs": [],
   "source": [
    "Images_arr=np.asarray(Images)\n",
    "print(\"Image pre shape:\", Images_arr.shape)\n",
    "Images_arr=np.reshape(Images_arr,(int(np.size(Images_arr,0)/sequence_len),sequence_len, 240, 320, 3))\n",
    "#Images_arr.size\n",
    "print(\"Image shape:\",Images_arr.shape)\n",
    "#print(\"Image size:\",Images_arr.size)\n",
    "#Images"
   ]
  },
  {
   "cell_type": "code",
   "execution_count": null,
   "metadata": {},
   "outputs": [
    {
     "ename": "Error",
     "evalue": "Kernel is dead",
     "output_type": "error",
     "traceback": [
      "Error: Kernel is dead",
      "at g._sendKernelShellControl (/home/erik/.var/app/com.visualstudio.code/data/vscode/extensions/ms-toolsai.jupyter-2021.6.832593372/out/client/extension.js:52:846419)",
      "at g.sendShellMessage (/home/erik/.var/app/com.visualstudio.code/data/vscode/extensions/ms-toolsai.jupyter-2021.6.832593372/out/client/extension.js:52:846188)",
      "at g.requestExecute (/home/erik/.var/app/com.visualstudio.code/data/vscode/extensions/ms-toolsai.jupyter-2021.6.832593372/out/client/extension.js:52:848730)",
      "at d.requestExecute (/home/erik/.var/app/com.visualstudio.code/data/vscode/extensions/ms-toolsai.jupyter-2021.6.832593372/out/client/extension.js:37:294720)",
      "at w.requestExecute (/home/erik/.var/app/com.visualstudio.code/data/vscode/extensions/ms-toolsai.jupyter-2021.6.832593372/out/client/extension.js:24:130554)",
      "at w.executeCodeCell (/home/erik/.var/app/com.visualstudio.code/data/vscode/extensions/ms-toolsai.jupyter-2021.6.832593372/out/client/extension.js:90:315950)",
      "at w.execute (/home/erik/.var/app/com.visualstudio.code/data/vscode/extensions/ms-toolsai.jupyter-2021.6.832593372/out/client/extension.js:90:315573)",
      "at w.start (/home/erik/.var/app/com.visualstudio.code/data/vscode/extensions/ms-toolsai.jupyter-2021.6.832593372/out/client/extension.js:90:311378)",
      "at runMicrotasks (<anonymous>)",
      "at processTicksAndRejections (internal/process/task_queues.js:93:5)",
      "at async t.CellExecutionQueue.executeQueuedCells (/home/erik/.var/app/com.visualstudio.code/data/vscode/extensions/ms-toolsai.jupyter-2021.6.832593372/out/client/extension.js:90:325786)",
      "at async t.CellExecutionQueue.start (/home/erik/.var/app/com.visualstudio.code/data/vscode/extensions/ms-toolsai.jupyter-2021.6.832593372/out/client/extension.js:90:325326)"
     ]
    }
   ],
   "source": [
    "print(np.size(Images_arr,0))"
   ]
  },
  {
   "cell_type": "code",
   "execution_count": 1,
   "metadata": {},
   "outputs": [],
   "source": [
    "import os\n",
    "import numpy as np\n",
    "ModelCar_Path = os.path.dirname(os.path.abspath(''))\n",
    "Data_Path = os.path.join(ModelCar_Path, 'Data')\n",
    "Image_Path = os.path.join(Data_Path, 'Images_Sim')\n",
    "Image_Save_Path = os.path.join(Image_Path, 'Images_Tensor_Sim')\n",
    "sequence_len = 5\n",
    "import cv2 \n",
    "#for tensor in sorted(os.listdir(Image_Save_Path), key=lambda x: int(x.split(\"_\")[3])):\n",
    "for tensor in os.listdir(Image_Save_Path):\n",
    "    img_array = np.load(os.path.join(Image_Save_Path, tensor), allow_pickle=True)\n",
    "    for j in range (sequence_len):\n",
    "        cv2.imshow('Record',img_array[0][j])\n",
    "        #print(\"i: \",i,\"j: \",j)\n",
    "        key=cv2.waitKey()\n",
    "        if key==27: break\n",
    "    if key==27: break\n",
    "cv2.destroyAllWindows()\n"
   ]
  },
  {
   "cell_type": "code",
   "execution_count": 2,
   "metadata": {},
   "outputs": [
    {
     "name": "stdout",
     "output_type": "stream",
     "text": [
      "20570\n"
     ]
    }
   ],
   "source": [
    "import os\n",
    "import numpy as np\n",
    "import cv2 \n",
    "Images=[]\n",
    "Speeds=[]\n",
    "Steering_Angles=[]\n",
    "#sequence_trimmed=[]\n",
    "Images_trimmed=[]\n",
    "sequence_len=5\n",
    "ModelCar_Path = os.path.dirname(os.path.abspath(''))\n",
    "Data_Path = os.path.join(ModelCar_Path, 'Data')\n",
    "Image_Path = os.path.join(Data_Path, 'Images_Sim')\n",
    "Image_Save_Path = os.path.join(Image_Path, 'Images_Tensor_Sim')\n",
    "for tensor in os.listdir(Image_Save_Path):\n",
    "    img_array = np.load(os.path.join(Image_Save_Path, tensor), allow_pickle=True)\n",
    "    Images.append(img_array[0])\n",
    "    #Speeds.append(img_array[1])\n",
    "    #Steering_Angles.append(img_array[2])\n",
    "#Images_arr=np.array(Images)\n",
    "print(len(Images))\n",
    "#print(Images_arr.shape)"
   ]
  },
  {
   "cell_type": "code",
   "execution_count": 11,
   "metadata": {},
   "outputs": [],
   "source": [
    "def Image_Processing(image):\n",
    "    image = image[80:, :, :]\n",
    "    image = cv2.cvtColor(image, cv2.COLOR_RGB2YUV)\n",
    "    image = cv2.GaussianBlur(image, (3, 3), 0)\n",
    "    image = cv2.resize(image, (200, 66))\n",
    "    return image\n",
    "Images_trimmed=[]\n",
    "for i in range(100):\n",
    "    sequence_trimmed=[]\n",
    "    for j in range(sequence_len):\n",
    "        Image = Image_Processing(Images[i][j])\n",
    "        sequence_trimmed.append(Image)\n",
    "    Images_trimmed.append(sequence_trimmed)\n",
    "        #Speed_Test.append(Test_Speeds[i])\n",
    "        #Steering_Angle_Test.append(Test_Steering_Angles[i])"
   ]
  },
  {
   "cell_type": "code",
   "execution_count": 12,
   "metadata": {},
   "outputs": [],
   "source": [
    "import cv2 \n",
    "for i in range(len(Images_trimmed)):\n",
    "    for j in range(sequence_len):\n",
    "        cv2.imshow('Record',Images_trimmed[i][j])\n",
    "        #print(\"i: \",i,\"j: \",j)\n",
    "        key=cv2.waitKey()\n",
    "        if key==27: break\n",
    "    if key==27: break\n",
    "cv2.destroyAllWindows()"
   ]
  },
  {
   "cell_type": "code",
   "execution_count": 3,
   "metadata": {},
   "outputs": [
    {
     "name": "stdout",
     "output_type": "stream",
     "text": [
      "(1329, 5, 240, 320, 3)\n"
     ]
    }
   ],
   "source": [
    "Images_arr=np.array(Images)\n",
    "print(Images_arr.shape)"
   ]
  },
  {
   "cell_type": "code",
   "execution_count": 4,
   "metadata": {},
   "outputs": [],
   "source": [
    "import cv2 \n",
    "img_array =Images_arr\n",
    "for i in range (0,2000):\n",
    "    cv2.imshow('Record',img_array[i][0])\n",
    "    #print(\"i: \",i,\"j: \",j)\n",
    "    key=cv2.waitKey()\n",
    "    if key==27: break\n",
    "cv2.destroyAllWindows()"
   ]
  },
  {
   "cell_type": "code",
   "execution_count": null,
   "metadata": {},
   "outputs": [
    {
     "ename": "Error",
     "evalue": "Kernel is dead",
     "output_type": "error",
     "traceback": [
      "Error: Kernel is dead",
      "at g._sendKernelShellControl (/home/erik/.var/app/com.visualstudio.code/data/vscode/extensions/ms-toolsai.jupyter-2021.6.832593372/out/client/extension.js:52:846419)",
      "at g.sendShellMessage (/home/erik/.var/app/com.visualstudio.code/data/vscode/extensions/ms-toolsai.jupyter-2021.6.832593372/out/client/extension.js:52:846188)",
      "at g.requestExecute (/home/erik/.var/app/com.visualstudio.code/data/vscode/extensions/ms-toolsai.jupyter-2021.6.832593372/out/client/extension.js:52:848730)",
      "at d.requestExecute (/home/erik/.var/app/com.visualstudio.code/data/vscode/extensions/ms-toolsai.jupyter-2021.6.832593372/out/client/extension.js:37:294720)",
      "at w.requestExecute (/home/erik/.var/app/com.visualstudio.code/data/vscode/extensions/ms-toolsai.jupyter-2021.6.832593372/out/client/extension.js:24:130554)",
      "at w.executeCodeCell (/home/erik/.var/app/com.visualstudio.code/data/vscode/extensions/ms-toolsai.jupyter-2021.6.832593372/out/client/extension.js:90:315950)",
      "at w.execute (/home/erik/.var/app/com.visualstudio.code/data/vscode/extensions/ms-toolsai.jupyter-2021.6.832593372/out/client/extension.js:90:315573)",
      "at w.start (/home/erik/.var/app/com.visualstudio.code/data/vscode/extensions/ms-toolsai.jupyter-2021.6.832593372/out/client/extension.js:90:311378)",
      "at runMicrotasks (<anonymous>)",
      "at processTicksAndRejections (internal/process/task_queues.js:93:5)",
      "at async t.CellExecutionQueue.executeQueuedCells (/home/erik/.var/app/com.visualstudio.code/data/vscode/extensions/ms-toolsai.jupyter-2021.6.832593372/out/client/extension.js:90:325786)",
      "at async t.CellExecutionQueue.start (/home/erik/.var/app/com.visualstudio.code/data/vscode/extensions/ms-toolsai.jupyter-2021.6.832593372/out/client/extension.js:90:325326)"
     ]
    }
   ],
   "source": [
    "sequence_arr=np.asarray(sequence)\n",
    "print(sequence_arr.shape)\n",
    "abc=[]\n",
    "abc.append(sequence)\n",
    "abc.append(sequence)\n",
    "abc.append(sequence)\n",
    "abc_arr=np.asarray(abc)\n",
    "print(abc_arr.shape)\n",
    "abc_arr=np.asarray(abc)\n",
    "print(abc_arr.shape)"
   ]
  }
 ],
 "metadata": {
  "interpreter": {
   "hash": "31f2aee4e71d21fbe5cf8b01ff0e069b9275f58929596ceb00d14d90e3e16cd6"
  },
  "kernelspec": {
   "display_name": "Python 3.6.9 64-bit",
   "name": "python3"
  },
  "language_info": {
   "codemirror_mode": {
    "name": "ipython",
    "version": 3
   },
   "file_extension": ".py",
   "mimetype": "text/x-python",
   "name": "python",
   "nbconvert_exporter": "python",
   "pygments_lexer": "ipython3",
   "version": "3.6.9"
  },
  "metadata": {
   "interpreter": {
    "hash": "e7370f93d1d0cde622a1f8e1c04877d8463912d04d973331ad4851f04de6915a"
   }
  },
  "orig_nbformat": 2
 },
 "nbformat": 4,
 "nbformat_minor": 2
}
